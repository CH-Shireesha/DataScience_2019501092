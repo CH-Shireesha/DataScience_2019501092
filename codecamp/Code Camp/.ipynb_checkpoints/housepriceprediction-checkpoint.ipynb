{
 "cells": [
  {
   "cell_type": "code",
   "execution_count": null,
   "metadata": {},
   "outputs": [],
   "source": [
    "import pandas as pd\n",
    "import numpy as np\n",
    "from matplotlib import pyplot as plt\n",
    "from sklearn.model_selection import train_test_split\n",
    "from sklearn import preprocessing\n",
    "from sklearn.impute import KNNImputer\n",
    "from sklearn.linear_model import Ridge\n",
    "from sklearn.linear_model import LinearRegression\n",
    "from sklearn.metrics import mean_squared_error as mserror\n",
    "\n",
    "path = \"C://Users/shiri/Code Camp/house-prices-advanced-regression-techniques/\"\n",
    "train = path + \"train.csv\"\n",
    "test = path + \"test.csv\"\n",
    "trainx_df = pd.read_csv(train,index_col = 'Id')\n",
    "# print(trainx_df.shape)\n",
    "trainy_df= trainx_df['SalePrice']\n",
    "# print(trainy_df.shape)\n",
    "trainx_df.drop('SalePrice',axis=1, inplace=True)\n",
    "testx_df = pd.read_csv(test,index_col = 'Id')\n",
    "# print(trainx_df.isnull().sum())\n",
    "sample_size = len(trainx_df)\n",
    "columns_with_null = [[col,float(trainx_df[col].isnull().sum())/float(sample_size)] for col in trainx_df.columns\n",
    "                   if trainx_df[col].isnull().sum()]\n",
    "coulums_with_null = [[col,float(trainx_df[col].isnull().sum())/\n",
    "                     float(sample_size)] for col in trainx_df.columns if\n",
    "                     trainx_df[col].isnull().sum()]\n",
    "#print (coulums_with_null)\n",
    "\n",
    "columns_to_drop = [x for(x,y) in coulums_with_null if y>0.3]\n",
    "# print(columns_to_drop)\n",
    "trainx_df.drop(columns_to_drop,axis = 1, inplace =True)\n",
    "print(len(trainx_df.columns))\n",
    "# print(len(trainx_df))\n",
    "trainx_df.dropna(axis =0,inplace= True)\n",
    "# print(len(trainx_df))\n",
    "categorical_col = [col for col in trainx_df.columns if trainx_df[col].dtype==object]\n",
    "# print(len(categorical_col))\n",
    "categorical_col.append('MSSubClass')\n",
    "# print(categorical_col,'\\n', len(categorical_col))\n",
    "ordinal_col = [col for col in trainx_df.columns if col not in categorical_col]\n",
    "print(len(ordinal_col))\n",
    "\n",
    "dummy_row = list()\n",
    "for col in trainx_df.columns:\n",
    "    if col in categorical_col:\n",
    "        dummy_row.append(\"dummy\")\n",
    "    else:\n",
    "        dummy_row.append(\"\")\n",
    "print(dummy_row)"
   ]
  },
  {
   "cell_type": "code",
   "execution_count": null,
   "metadata": {},
   "outputs": [],
   "source": []
  }
 ],
 "metadata": {
  "kernelspec": {
   "display_name": "Python 3",
   "language": "python",
   "name": "python3"
  },
  "language_info": {
   "codemirror_mode": {
    "name": "ipython",
    "version": 3
   },
   "file_extension": ".py",
   "mimetype": "text/x-python",
   "name": "python",
   "nbconvert_exporter": "python",
   "pygments_lexer": "ipython3",
   "version": "3.8.3"
  }
 },
 "nbformat": 4,
 "nbformat_minor": 4
}
